{
 "metadata": {
  "language_info": {
   "codemirror_mode": {
    "name": "ipython",
    "version": 3
   },
   "file_extension": ".py",
   "mimetype": "text/x-python",
   "name": "python",
   "nbconvert_exporter": "python",
   "pygments_lexer": "ipython3",
   "version": 3
  },
  "orig_nbformat": 2,
  "kernelspec": {
   "name": "python_defaultSpec_1596476630237",
   "display_name": "Python 3.7.3 64-bit ('base': conda)"
  }
 },
 "nbformat": 4,
 "nbformat_minor": 2,
 "cells": [
  {
   "cell_type": "code",
   "execution_count": 43,
   "metadata": {},
   "outputs": [],
   "source": [
    "import pandas as pd\n",
    "import numpy as np\n",
    "from sklearn.preprocessing import MinMaxScaler\n",
    "from keras.models import Sequential\n",
    "from keras.layers import Dense, Dropout, LSTM\n",
    "\n",
    "prices = pd.read_csv('joe_data.csv')"
   ]
  },
  {
   "cell_type": "code",
   "execution_count": 44,
   "metadata": {},
   "outputs": [],
   "source": [
    "# rename col\n",
    "prices = prices.rename(columns={'Data from DEX.AG API': 'price_diff_pct',\n",
    "                                'Date collected': 'date'})\n"
   ]
  },
  {
   "cell_type": "code",
   "execution_count": 45,
   "metadata": {},
   "outputs": [],
   "source": [
    "# Remove % sign, cast as float\n",
    "prices['price_diff_pct'] = [x[:-1] for x in prices['price_diff_pct']]\n",
    "prices['price_diff_pct'] = prices['price_diff_pct'].astype(float)"
   ]
  },
  {
   "cell_type": "code",
   "execution_count": 27,
   "metadata": {},
   "outputs": [
    {
     "output_type": "execute_result",
     "data": {
      "text/plain": "         Date collected  price_diff_pct  12hr_avg\n0     07/29/20 11:17 AM            2.08       NaN\n1     07/29/20 11:18 AM            2.08       NaN\n2     07/29/20 11:23 AM            2.06       NaN\n3     07/29/20 11:28 AM            2.06       NaN\n4     07/29/20 11:33 AM            2.06       NaN\n5     07/29/20 11:38 AM            2.06       NaN\n6     07/29/20 11:43 AM            2.04       NaN\n7     07/29/20 11:48 AM            2.04       NaN\n8     07/29/20 11:53 AM            2.05       NaN\n9     07/29/20 11:58 AM            2.05       NaN\n10    07/29/20 12:03 PM            2.05       NaN\n11    07/29/20 12:08 PM            2.05       NaN\n12    07/29/20 12:13 PM            2.05       NaN\n13    07/29/20 12:18 PM            1.94       NaN\n14    07/29/20 12:23 PM            1.98       NaN\n15    07/29/20 12:28 PM            1.99       NaN\n16    07/29/20 12:33 PM            1.99       NaN\n17    07/29/20 12:38 PM            1.99       NaN\n18    07/29/20 12:43 PM            2.00       NaN\n19    07/29/20 12:48 PM            2.01       NaN\n20    07/29/20 12:53 PM            2.03       NaN\n21    07/29/20 12:58 PM            1.91       NaN\n22    07/29/20 01:03 PM            1.91       NaN\n23    07/29/20 01:08 PM            1.97       NaN\n24    07/29/20 01:13 PM            1.96       NaN\n25    07/29/20 01:18 PM            1.97       NaN\n26    07/29/20 01:23 PM            2.03       NaN\n27    07/29/20 01:28 PM            2.12       NaN\n28    07/29/20 01:33 PM            2.10       NaN\n29    07/29/20 01:38 PM            2.11       NaN\n...                 ...             ...       ...\n1685  08/04/20 03:28 AM            1.39  1.435069\n1686  08/04/20 03:33 AM            1.36  1.434514\n1687  08/04/20 03:43 AM            1.35  1.433750\n1688  08/04/20 03:48 AM            1.33  1.432917\n1689  08/04/20 03:53 AM            1.35  1.432500\n1690  08/04/20 03:58 AM            1.35  1.431944\n1691  08/04/20 04:03 AM            1.35  1.431389\n1692  08/04/20 04:08 AM            1.35  1.430625\n1693  08/04/20 04:13 AM            1.35  1.429792\n1694  08/04/20 04:18 AM            1.36  1.428819\n1695  08/04/20 04:23 AM            1.35  1.427708\n1696  08/04/20 04:28 AM            1.35  1.426597\n1697  08/04/20 04:33 AM            1.35  1.425694\n1698  08/04/20 04:38 AM            1.35  1.424931\n1699  08/04/20 04:39 AM            1.35  1.424167\n1700  08/04/20 04:39 AM            1.35  1.423542\n1701  08/04/20 04:40 AM            1.35  1.422986\n1702  08/04/20 04:42 AM            1.34  1.422431\n1703  08/04/20 04:43 AM            1.34  1.421319\n1704  08/04/20 04:48 AM            1.35  1.420347\n1705  08/04/20 04:53 AM            1.41  1.419792\n1706  08/04/20 04:58 AM            1.31  1.418542\n1707  08/04/20 05:03 AM            1.33  1.417500\n1708  08/04/20 05:08 AM            1.37  1.417014\n1709  08/04/20 05:13 AM            1.36  1.416319\n1710  08/04/20 05:18 AM            1.36  1.415694\n1711  08/04/20 05:23 AM            1.47  1.416181\n1712  08/04/20 05:28 AM            1.45  1.415972\n1713  08/04/20 05:33 AM            1.45  1.416250\n1714                NaN            1.46  1.416597\n\n[1715 rows x 3 columns]",
      "text/html": "<div>\n<style scoped>\n    .dataframe tbody tr th:only-of-type {\n        vertical-align: middle;\n    }\n\n    .dataframe tbody tr th {\n        vertical-align: top;\n    }\n\n    .dataframe thead th {\n        text-align: right;\n    }\n</style>\n<table border=\"1\" class=\"dataframe\">\n  <thead>\n    <tr style=\"text-align: right;\">\n      <th></th>\n      <th>Date collected</th>\n      <th>price_diff_pct</th>\n      <th>12hr_avg</th>\n    </tr>\n  </thead>\n  <tbody>\n    <tr>\n      <th>0</th>\n      <td>07/29/20 11:17 AM</td>\n      <td>2.08</td>\n      <td>NaN</td>\n    </tr>\n    <tr>\n      <th>1</th>\n      <td>07/29/20 11:18 AM</td>\n      <td>2.08</td>\n      <td>NaN</td>\n    </tr>\n    <tr>\n      <th>2</th>\n      <td>07/29/20 11:23 AM</td>\n      <td>2.06</td>\n      <td>NaN</td>\n    </tr>\n    <tr>\n      <th>3</th>\n      <td>07/29/20 11:28 AM</td>\n      <td>2.06</td>\n      <td>NaN</td>\n    </tr>\n    <tr>\n      <th>4</th>\n      <td>07/29/20 11:33 AM</td>\n      <td>2.06</td>\n      <td>NaN</td>\n    </tr>\n    <tr>\n      <th>5</th>\n      <td>07/29/20 11:38 AM</td>\n      <td>2.06</td>\n      <td>NaN</td>\n    </tr>\n    <tr>\n      <th>6</th>\n      <td>07/29/20 11:43 AM</td>\n      <td>2.04</td>\n      <td>NaN</td>\n    </tr>\n    <tr>\n      <th>7</th>\n      <td>07/29/20 11:48 AM</td>\n      <td>2.04</td>\n      <td>NaN</td>\n    </tr>\n    <tr>\n      <th>8</th>\n      <td>07/29/20 11:53 AM</td>\n      <td>2.05</td>\n      <td>NaN</td>\n    </tr>\n    <tr>\n      <th>9</th>\n      <td>07/29/20 11:58 AM</td>\n      <td>2.05</td>\n      <td>NaN</td>\n    </tr>\n    <tr>\n      <th>10</th>\n      <td>07/29/20 12:03 PM</td>\n      <td>2.05</td>\n      <td>NaN</td>\n    </tr>\n    <tr>\n      <th>11</th>\n      <td>07/29/20 12:08 PM</td>\n      <td>2.05</td>\n      <td>NaN</td>\n    </tr>\n    <tr>\n      <th>12</th>\n      <td>07/29/20 12:13 PM</td>\n      <td>2.05</td>\n      <td>NaN</td>\n    </tr>\n    <tr>\n      <th>13</th>\n      <td>07/29/20 12:18 PM</td>\n      <td>1.94</td>\n      <td>NaN</td>\n    </tr>\n    <tr>\n      <th>14</th>\n      <td>07/29/20 12:23 PM</td>\n      <td>1.98</td>\n      <td>NaN</td>\n    </tr>\n    <tr>\n      <th>15</th>\n      <td>07/29/20 12:28 PM</td>\n      <td>1.99</td>\n      <td>NaN</td>\n    </tr>\n    <tr>\n      <th>16</th>\n      <td>07/29/20 12:33 PM</td>\n      <td>1.99</td>\n      <td>NaN</td>\n    </tr>\n    <tr>\n      <th>17</th>\n      <td>07/29/20 12:38 PM</td>\n      <td>1.99</td>\n      <td>NaN</td>\n    </tr>\n    <tr>\n      <th>18</th>\n      <td>07/29/20 12:43 PM</td>\n      <td>2.00</td>\n      <td>NaN</td>\n    </tr>\n    <tr>\n      <th>19</th>\n      <td>07/29/20 12:48 PM</td>\n      <td>2.01</td>\n      <td>NaN</td>\n    </tr>\n    <tr>\n      <th>20</th>\n      <td>07/29/20 12:53 PM</td>\n      <td>2.03</td>\n      <td>NaN</td>\n    </tr>\n    <tr>\n      <th>21</th>\n      <td>07/29/20 12:58 PM</td>\n      <td>1.91</td>\n      <td>NaN</td>\n    </tr>\n    <tr>\n      <th>22</th>\n      <td>07/29/20 01:03 PM</td>\n      <td>1.91</td>\n      <td>NaN</td>\n    </tr>\n    <tr>\n      <th>23</th>\n      <td>07/29/20 01:08 PM</td>\n      <td>1.97</td>\n      <td>NaN</td>\n    </tr>\n    <tr>\n      <th>24</th>\n      <td>07/29/20 01:13 PM</td>\n      <td>1.96</td>\n      <td>NaN</td>\n    </tr>\n    <tr>\n      <th>25</th>\n      <td>07/29/20 01:18 PM</td>\n      <td>1.97</td>\n      <td>NaN</td>\n    </tr>\n    <tr>\n      <th>26</th>\n      <td>07/29/20 01:23 PM</td>\n      <td>2.03</td>\n      <td>NaN</td>\n    </tr>\n    <tr>\n      <th>27</th>\n      <td>07/29/20 01:28 PM</td>\n      <td>2.12</td>\n      <td>NaN</td>\n    </tr>\n    <tr>\n      <th>28</th>\n      <td>07/29/20 01:33 PM</td>\n      <td>2.10</td>\n      <td>NaN</td>\n    </tr>\n    <tr>\n      <th>29</th>\n      <td>07/29/20 01:38 PM</td>\n      <td>2.11</td>\n      <td>NaN</td>\n    </tr>\n    <tr>\n      <th>...</th>\n      <td>...</td>\n      <td>...</td>\n      <td>...</td>\n    </tr>\n    <tr>\n      <th>1685</th>\n      <td>08/04/20 03:28 AM</td>\n      <td>1.39</td>\n      <td>1.435069</td>\n    </tr>\n    <tr>\n      <th>1686</th>\n      <td>08/04/20 03:33 AM</td>\n      <td>1.36</td>\n      <td>1.434514</td>\n    </tr>\n    <tr>\n      <th>1687</th>\n      <td>08/04/20 03:43 AM</td>\n      <td>1.35</td>\n      <td>1.433750</td>\n    </tr>\n    <tr>\n      <th>1688</th>\n      <td>08/04/20 03:48 AM</td>\n      <td>1.33</td>\n      <td>1.432917</td>\n    </tr>\n    <tr>\n      <th>1689</th>\n      <td>08/04/20 03:53 AM</td>\n      <td>1.35</td>\n      <td>1.432500</td>\n    </tr>\n    <tr>\n      <th>1690</th>\n      <td>08/04/20 03:58 AM</td>\n      <td>1.35</td>\n      <td>1.431944</td>\n    </tr>\n    <tr>\n      <th>1691</th>\n      <td>08/04/20 04:03 AM</td>\n      <td>1.35</td>\n      <td>1.431389</td>\n    </tr>\n    <tr>\n      <th>1692</th>\n      <td>08/04/20 04:08 AM</td>\n      <td>1.35</td>\n      <td>1.430625</td>\n    </tr>\n    <tr>\n      <th>1693</th>\n      <td>08/04/20 04:13 AM</td>\n      <td>1.35</td>\n      <td>1.429792</td>\n    </tr>\n    <tr>\n      <th>1694</th>\n      <td>08/04/20 04:18 AM</td>\n      <td>1.36</td>\n      <td>1.428819</td>\n    </tr>\n    <tr>\n      <th>1695</th>\n      <td>08/04/20 04:23 AM</td>\n      <td>1.35</td>\n      <td>1.427708</td>\n    </tr>\n    <tr>\n      <th>1696</th>\n      <td>08/04/20 04:28 AM</td>\n      <td>1.35</td>\n      <td>1.426597</td>\n    </tr>\n    <tr>\n      <th>1697</th>\n      <td>08/04/20 04:33 AM</td>\n      <td>1.35</td>\n      <td>1.425694</td>\n    </tr>\n    <tr>\n      <th>1698</th>\n      <td>08/04/20 04:38 AM</td>\n      <td>1.35</td>\n      <td>1.424931</td>\n    </tr>\n    <tr>\n      <th>1699</th>\n      <td>08/04/20 04:39 AM</td>\n      <td>1.35</td>\n      <td>1.424167</td>\n    </tr>\n    <tr>\n      <th>1700</th>\n      <td>08/04/20 04:39 AM</td>\n      <td>1.35</td>\n      <td>1.423542</td>\n    </tr>\n    <tr>\n      <th>1701</th>\n      <td>08/04/20 04:40 AM</td>\n      <td>1.35</td>\n      <td>1.422986</td>\n    </tr>\n    <tr>\n      <th>1702</th>\n      <td>08/04/20 04:42 AM</td>\n      <td>1.34</td>\n      <td>1.422431</td>\n    </tr>\n    <tr>\n      <th>1703</th>\n      <td>08/04/20 04:43 AM</td>\n      <td>1.34</td>\n      <td>1.421319</td>\n    </tr>\n    <tr>\n      <th>1704</th>\n      <td>08/04/20 04:48 AM</td>\n      <td>1.35</td>\n      <td>1.420347</td>\n    </tr>\n    <tr>\n      <th>1705</th>\n      <td>08/04/20 04:53 AM</td>\n      <td>1.41</td>\n      <td>1.419792</td>\n    </tr>\n    <tr>\n      <th>1706</th>\n      <td>08/04/20 04:58 AM</td>\n      <td>1.31</td>\n      <td>1.418542</td>\n    </tr>\n    <tr>\n      <th>1707</th>\n      <td>08/04/20 05:03 AM</td>\n      <td>1.33</td>\n      <td>1.417500</td>\n    </tr>\n    <tr>\n      <th>1708</th>\n      <td>08/04/20 05:08 AM</td>\n      <td>1.37</td>\n      <td>1.417014</td>\n    </tr>\n    <tr>\n      <th>1709</th>\n      <td>08/04/20 05:13 AM</td>\n      <td>1.36</td>\n      <td>1.416319</td>\n    </tr>\n    <tr>\n      <th>1710</th>\n      <td>08/04/20 05:18 AM</td>\n      <td>1.36</td>\n      <td>1.415694</td>\n    </tr>\n    <tr>\n      <th>1711</th>\n      <td>08/04/20 05:23 AM</td>\n      <td>1.47</td>\n      <td>1.416181</td>\n    </tr>\n    <tr>\n      <th>1712</th>\n      <td>08/04/20 05:28 AM</td>\n      <td>1.45</td>\n      <td>1.415972</td>\n    </tr>\n    <tr>\n      <th>1713</th>\n      <td>08/04/20 05:33 AM</td>\n      <td>1.45</td>\n      <td>1.416250</td>\n    </tr>\n    <tr>\n      <th>1714</th>\n      <td>NaN</td>\n      <td>1.46</td>\n      <td>1.416597</td>\n    </tr>\n  </tbody>\n</table>\n<p>1715 rows × 3 columns</p>\n</div>"
     },
     "metadata": {},
     "execution_count": 27
    }
   ],
   "source": [
    "#prices['12hr_avg'] = prices['price_diff_pct'].rolling(144).mean()\n"
   ]
  },
  {
   "cell_type": "code",
   "execution_count": null,
   "metadata": {},
   "outputs": [],
   "source": [
    "# # Extract date info\n",
    "# from fastai.tabular import add_datepart\n",
    "# add_datepart(prices, 'date')\n",
    "# new_data.drop('Elapsed', axis=1, inplace=True)  #elapsed will be the time stamp"
   ]
  },
  {
   "cell_type": "code",
   "execution_count": 48,
   "metadata": {},
   "outputs": [
    {
     "output_type": "execute_result",
     "data": {
      "text/plain": "                    date  price_diff_pct\n1710 2020-08-04 05:18:00            1.36\n1711 2020-08-04 05:23:00            1.47\n1712 2020-08-04 05:28:00            1.45\n1713 2020-08-04 05:33:00            1.45\n1714                 NaT            1.46",
      "text/html": "<div>\n<style scoped>\n    .dataframe tbody tr th:only-of-type {\n        vertical-align: middle;\n    }\n\n    .dataframe tbody tr th {\n        vertical-align: top;\n    }\n\n    .dataframe thead th {\n        text-align: right;\n    }\n</style>\n<table border=\"1\" class=\"dataframe\">\n  <thead>\n    <tr style=\"text-align: right;\">\n      <th></th>\n      <th>date</th>\n      <th>price_diff_pct</th>\n    </tr>\n  </thead>\n  <tbody>\n    <tr>\n      <th>1710</th>\n      <td>2020-08-04 05:18:00</td>\n      <td>1.36</td>\n    </tr>\n    <tr>\n      <th>1711</th>\n      <td>2020-08-04 05:23:00</td>\n      <td>1.47</td>\n    </tr>\n    <tr>\n      <th>1712</th>\n      <td>2020-08-04 05:28:00</td>\n      <td>1.45</td>\n    </tr>\n    <tr>\n      <th>1713</th>\n      <td>2020-08-04 05:33:00</td>\n      <td>1.45</td>\n    </tr>\n    <tr>\n      <th>1714</th>\n      <td>NaT</td>\n      <td>1.46</td>\n    </tr>\n  </tbody>\n</table>\n</div>"
     },
     "metadata": {},
     "execution_count": 48
    }
   ],
   "source": [
    "# convert to datetime\n",
    "prices['date'] = pd.to_datetime(prices['date'], format = '%m/%d/%y %H:%M %p')\n",
    "\n",
    "# Drop last row (NA)\n",
    "prices = prices.iloc[:-1]\n"
   ]
  },
  {
   "cell_type": "code",
   "execution_count": 54,
   "metadata": {},
   "outputs": [],
   "source": [
    "# Set date as index\n",
    "prices.index = prices['date']\n",
    "prices = prices.drop('date', axis = 1)"
   ]
  },
  {
   "cell_type": "code",
   "execution_count": 60,
   "metadata": {},
   "outputs": [
    {
     "output_type": "error",
     "ename": "NameError",
     "evalue": "name 'MinMaxScaler' is not defined",
     "traceback": [
      "\u001b[1;31m---------------------------------------------------------------------------\u001b[0m",
      "\u001b[1;31mNameError\u001b[0m                                 Traceback (most recent call last)",
      "\u001b[1;32m<ipython-input-60-d438e907854d>\u001b[0m in \u001b[0;36m<module>\u001b[1;34m\u001b[0m\n\u001b[0;32m      6\u001b[0m \u001b[1;33m\u001b[0m\u001b[0m\n\u001b[0;32m      7\u001b[0m \u001b[1;31m# Scale data\u001b[0m\u001b[1;33m\u001b[0m\u001b[1;33m\u001b[0m\u001b[1;33m\u001b[0m\u001b[0m\n\u001b[1;32m----> 8\u001b[1;33m \u001b[0mscaler\u001b[0m \u001b[1;33m=\u001b[0m \u001b[0mMinMaxScaler\u001b[0m\u001b[1;33m(\u001b[0m\u001b[0mfeature_range\u001b[0m\u001b[1;33m=\u001b[0m\u001b[1;33m(\u001b[0m\u001b[1;36m0\u001b[0m\u001b[1;33m,\u001b[0m \u001b[1;36m1\u001b[0m\u001b[1;33m)\u001b[0m\u001b[1;33m)\u001b[0m\u001b[1;33m\u001b[0m\u001b[1;33m\u001b[0m\u001b[0m\n\u001b[0m\u001b[0;32m      9\u001b[0m \u001b[0mscaled_data\u001b[0m \u001b[1;33m=\u001b[0m \u001b[0mscaler\u001b[0m\u001b[1;33m.\u001b[0m\u001b[0mfit_transform\u001b[0m\u001b[1;33m(\u001b[0m\u001b[0mprices\u001b[0m\u001b[1;33m)\u001b[0m\u001b[1;33m\u001b[0m\u001b[1;33m\u001b[0m\u001b[0m\n",
      "\u001b[1;31mNameError\u001b[0m: name 'MinMaxScaler' is not defined"
     ]
    }
   ],
   "source": [
    "# Split into 80/20 train/test\n",
    "train_cutoff = int(np.floor(len(prices) * .8))\n",
    "\n",
    "train = prices.iloc[:train_cutoff]\n",
    "test = prices.iloc[train_cutoff:]\n",
    "\n"
   ]
  },
  {
   "cell_type": "code",
   "execution_count": 68,
   "metadata": {},
   "outputs": [
    {
     "output_type": "execute_result",
     "data": {
      "text/plain": "array([[[0.38745387],\n        [0.38745387],\n        [0.3800738 ],\n        ...,\n        [0.58302583],\n        [0.60147601],\n        [0.60147601]],\n\n       [[0.38745387],\n        [0.3800738 ],\n        [0.3800738 ],\n        ...,\n        [0.60147601],\n        [0.60147601],\n        [0.56826568]],\n\n       [[0.3800738 ],\n        [0.3800738 ],\n        [0.3800738 ],\n        ...,\n        [0.60147601],\n        [0.56826568],\n        [0.61254613]],\n\n       ...,\n\n       [[0.05904059],\n        [0.05166052],\n        [0.05166052],\n        ...,\n        [0.19188192],\n        [0.19188192],\n        [0.19188192]],\n\n       [[0.05166052],\n        [0.05166052],\n        [0.05166052],\n        ...,\n        [0.19188192],\n        [0.19188192],\n        [0.19926199]],\n\n       [[0.05166052],\n        [0.05166052],\n        [0.04797048],\n        ...,\n        [0.19188192],\n        [0.19926199],\n        [0.19557196]]])"
     },
     "metadata": {},
     "execution_count": 68
    }
   ],
   "source": [
    "\n",
    "\n",
    "# Scale data\n",
    "scaler = MinMaxScaler(feature_range=(0, 1))\n",
    "scaled_data = scaler.fit_transform(prices)\n",
    "\n",
    "x_train, y_train = [], []\n",
    "for i in range(60,len(train)):\n",
    "    x_train.append(scaled_data[i-60:i,0])\n",
    "    y_train.append(scaled_data[i,0])\n",
    "x_train, y_train = np.array(x_train), np.array(y_train)\n",
    "\n",
    "x_train = np.reshape(x_train, (x_train.shape[0],x_train.shape[1],1))\n"
   ]
  },
  {
   "cell_type": "code",
   "execution_count": 69,
   "metadata": {
    "tags": []
   },
   "outputs": [
    {
     "output_type": "stream",
     "name": "stdout",
     "text": "1312/1312 - 18s - loss: 0.0062\n"
    }
   ],
   "source": [
    "# create and fit the LSTM network\n",
    "model = Sequential()\n",
    "model.add(LSTM(units=50, return_sequences=True, input_shape=(x_train.shape[1],1)))\n",
    "model.add(LSTM(units=50))\n",
    "model.add(Dense(1))\n",
    "\n",
    "model.compile(loss='mean_squared_error', optimizer='adam')\n",
    "model.fit(x_train, y_train, epochs=1, batch_size=1, verbose=2)\n",
    "\n",
    "#predicting 246 values, using past 60 from the train data\n",
    "inputs = prices[len(prices) - len(test) - 60:].values\n",
    "inputs = inputs.reshape(-1,1)\n",
    "inputs  = scaler.transform(inputs)\n",
    "\n",
    "X_test = []\n",
    "for i in range(60,inputs.shape[0]):\n",
    "    X_test.append(inputs[i-60:i,0])\n",
    "X_test = np.array(X_test)\n",
    "\n",
    "X_test = np.reshape(X_test, (X_test.shape[0],X_test.shape[1],1))\n",
    "closing_price = model.predict(X_test)\n",
    "closing_price = scaler.inverse_transform(closing_price)"
   ]
  },
  {
   "cell_type": "code",
   "execution_count": 70,
   "metadata": {},
   "outputs": [
    {
     "output_type": "execute_result",
     "data": {
      "text/plain": "price_diff_pct    0.097485\ndtype: float64"
     },
     "metadata": {},
     "execution_count": 70
    }
   ],
   "source": [
    "rms=np.sqrt(np.mean(np.power((test-closing_price),2)))\n",
    "rms"
   ]
  },
  {
   "cell_type": "code",
   "execution_count": 80,
   "metadata": {},
   "outputs": [
    {
     "output_type": "execute_result",
     "data": {
      "text/plain": "[<matplotlib.lines.Line2D at 0x2a433bdf978>,\n <matplotlib.lines.Line2D at 0x2a433e4c128>]"
     },
     "metadata": {},
     "execution_count": 80
    },
    {
     "output_type": "display_data",
     "data": {
      "text/plain": "<Figure size 432x288 with 1 Axes>",
      "image/svg+xml": "<?xml version=\"1.0\" encoding=\"utf-8\" standalone=\"no\"?>\r\n<!DOCTYPE svg PUBLIC \"-//W3C//DTD SVG 1.1//EN\"\r\n  \"http://www.w3.org/Graphics/SVG/1.1/DTD/svg11.dtd\">\r\n<!-- Created with matplotlib (https://matplotlib.org/) -->\r\n<svg height=\"251.028174pt\" version=\"1.1\" viewBox=\"0 0 372.103125 251.028174\" width=\"372.103125pt\" xmlns=\"http://www.w3.org/2000/svg\" xmlns:xlink=\"http://www.w3.org/1999/xlink\">\r\n <defs>\r\n  <style type=\"text/css\">\r\n*{stroke-linecap:butt;stroke-linejoin:round;}\r\n  </style>\r\n </defs>\r\n <g id=\"figure_1\">\r\n  <g id=\"patch_1\">\r\n   <path d=\"M 0 251.028174 \r\nL 372.103125 251.028174 \r\nL 372.103125 0 \r\nL 0 0 \r\nz\r\n\" style=\"fill:none;\"/>\r\n  </g>\r\n  <g id=\"axes_1\">\r\n   <g id=\"patch_2\">\r\n    <path d=\"M 30.103125 227.150049 \r\nL 364.903125 227.150049 \r\nL 364.903125 9.710049 \r\nL 30.103125 9.710049 \r\nz\r\n\" style=\"fill:#ffffff;\"/>\r\n   </g>\r\n   <g id=\"matplotlib.axis_1\">\r\n    <g id=\"xtick_1\">\r\n     <g id=\"line2d_1\">\r\n      <defs>\r\n       <path d=\"M 0 0 \r\nL 0 3.5 \r\n\" id=\"m2ac286addc\" style=\"stroke:#000000;stroke-width:0.8;\"/>\r\n      </defs>\r\n      <g>\r\n       <use style=\"stroke:#000000;stroke-width:0.8;\" x=\"47.3434\" xlink:href=\"#m2ac286addc\" y=\"227.150049\"/>\r\n      </g>\r\n     </g>\r\n     <g id=\"text_1\">\r\n      <!-- 1680 -->\r\n      <defs>\r\n       <path d=\"M 12.40625 8.296875 \r\nL 28.515625 8.296875 \r\nL 28.515625 63.921875 \r\nL 10.984375 60.40625 \r\nL 10.984375 69.390625 \r\nL 28.421875 72.90625 \r\nL 38.28125 72.90625 \r\nL 38.28125 8.296875 \r\nL 54.390625 8.296875 \r\nL 54.390625 0 \r\nL 12.40625 0 \r\nz\r\n\" id=\"DejaVuSans-49\"/>\r\n       <path d=\"M 33.015625 40.375 \r\nQ 26.375 40.375 22.484375 35.828125 \r\nQ 18.609375 31.296875 18.609375 23.390625 \r\nQ 18.609375 15.53125 22.484375 10.953125 \r\nQ 26.375 6.390625 33.015625 6.390625 \r\nQ 39.65625 6.390625 43.53125 10.953125 \r\nQ 47.40625 15.53125 47.40625 23.390625 \r\nQ 47.40625 31.296875 43.53125 35.828125 \r\nQ 39.65625 40.375 33.015625 40.375 \r\nz\r\nM 52.59375 71.296875 \r\nL 52.59375 62.3125 \r\nQ 48.875 64.0625 45.09375 64.984375 \r\nQ 41.3125 65.921875 37.59375 65.921875 \r\nQ 27.828125 65.921875 22.671875 59.328125 \r\nQ 17.53125 52.734375 16.796875 39.40625 \r\nQ 19.671875 43.65625 24.015625 45.921875 \r\nQ 28.375 48.1875 33.59375 48.1875 \r\nQ 44.578125 48.1875 50.953125 41.515625 \r\nQ 57.328125 34.859375 57.328125 23.390625 \r\nQ 57.328125 12.15625 50.6875 5.359375 \r\nQ 44.046875 -1.421875 33.015625 -1.421875 \r\nQ 20.359375 -1.421875 13.671875 8.265625 \r\nQ 6.984375 17.96875 6.984375 36.375 \r\nQ 6.984375 53.65625 15.1875 63.9375 \r\nQ 23.390625 74.21875 37.203125 74.21875 \r\nQ 40.921875 74.21875 44.703125 73.484375 \r\nQ 48.484375 72.75 52.59375 71.296875 \r\nz\r\n\" id=\"DejaVuSans-54\"/>\r\n       <path d=\"M 31.78125 34.625 \r\nQ 24.75 34.625 20.71875 30.859375 \r\nQ 16.703125 27.09375 16.703125 20.515625 \r\nQ 16.703125 13.921875 20.71875 10.15625 \r\nQ 24.75 6.390625 31.78125 6.390625 \r\nQ 38.8125 6.390625 42.859375 10.171875 \r\nQ 46.921875 13.96875 46.921875 20.515625 \r\nQ 46.921875 27.09375 42.890625 30.859375 \r\nQ 38.875 34.625 31.78125 34.625 \r\nz\r\nM 21.921875 38.8125 \r\nQ 15.578125 40.375 12.03125 44.71875 \r\nQ 8.5 49.078125 8.5 55.328125 \r\nQ 8.5 64.0625 14.71875 69.140625 \r\nQ 20.953125 74.21875 31.78125 74.21875 \r\nQ 42.671875 74.21875 48.875 69.140625 \r\nQ 55.078125 64.0625 55.078125 55.328125 \r\nQ 55.078125 49.078125 51.53125 44.71875 \r\nQ 48 40.375 41.703125 38.8125 \r\nQ 48.828125 37.15625 52.796875 32.3125 \r\nQ 56.78125 27.484375 56.78125 20.515625 \r\nQ 56.78125 9.90625 50.3125 4.234375 \r\nQ 43.84375 -1.421875 31.78125 -1.421875 \r\nQ 19.734375 -1.421875 13.25 4.234375 \r\nQ 6.78125 9.90625 6.78125 20.515625 \r\nQ 6.78125 27.484375 10.78125 32.3125 \r\nQ 14.796875 37.15625 21.921875 38.8125 \r\nz\r\nM 18.3125 54.390625 \r\nQ 18.3125 48.734375 21.84375 45.5625 \r\nQ 25.390625 42.390625 31.78125 42.390625 \r\nQ 38.140625 42.390625 41.71875 45.5625 \r\nQ 45.3125 48.734375 45.3125 54.390625 \r\nQ 45.3125 60.0625 41.71875 63.234375 \r\nQ 38.140625 66.40625 31.78125 66.40625 \r\nQ 25.390625 66.40625 21.84375 63.234375 \r\nQ 18.3125 60.0625 18.3125 54.390625 \r\nz\r\n\" id=\"DejaVuSans-56\"/>\r\n       <path d=\"M 31.78125 66.40625 \r\nQ 24.171875 66.40625 20.328125 58.90625 \r\nQ 16.5 51.421875 16.5 36.375 \r\nQ 16.5 21.390625 20.328125 13.890625 \r\nQ 24.171875 6.390625 31.78125 6.390625 \r\nQ 39.453125 6.390625 43.28125 13.890625 \r\nQ 47.125 21.390625 47.125 36.375 \r\nQ 47.125 51.421875 43.28125 58.90625 \r\nQ 39.453125 66.40625 31.78125 66.40625 \r\nz\r\nM 31.78125 74.21875 \r\nQ 44.046875 74.21875 50.515625 64.515625 \r\nQ 56.984375 54.828125 56.984375 36.375 \r\nQ 56.984375 17.96875 50.515625 8.265625 \r\nQ 44.046875 -1.421875 31.78125 -1.421875 \r\nQ 19.53125 -1.421875 13.0625 8.265625 \r\nQ 6.59375 17.96875 6.59375 36.375 \r\nQ 6.59375 54.828125 13.0625 64.515625 \r\nQ 19.53125 74.21875 31.78125 74.21875 \r\nz\r\n\" id=\"DejaVuSans-48\"/>\r\n      </defs>\r\n      <g transform=\"translate(34.6184 241.748486)scale(0.1 -0.1)\">\r\n       <use xlink:href=\"#DejaVuSans-49\"/>\r\n       <use x=\"63.623047\" xlink:href=\"#DejaVuSans-54\"/>\r\n       <use x=\"127.246094\" xlink:href=\"#DejaVuSans-56\"/>\r\n       <use x=\"190.869141\" xlink:href=\"#DejaVuSans-48\"/>\r\n      </g>\r\n     </g>\r\n    </g>\r\n    <g id=\"xtick_2\">\r\n     <g id=\"line2d_2\">\r\n      <g>\r\n       <use style=\"stroke:#000000;stroke-width:0.8;\" x=\"82.849505\" xlink:href=\"#m2ac286addc\" y=\"227.150049\"/>\r\n      </g>\r\n     </g>\r\n     <g id=\"text_2\">\r\n      <!-- 1720 -->\r\n      <defs>\r\n       <path d=\"M 8.203125 72.90625 \r\nL 55.078125 72.90625 \r\nL 55.078125 68.703125 \r\nL 28.609375 0 \r\nL 18.3125 0 \r\nL 43.21875 64.59375 \r\nL 8.203125 64.59375 \r\nz\r\n\" id=\"DejaVuSans-55\"/>\r\n       <path d=\"M 19.1875 8.296875 \r\nL 53.609375 8.296875 \r\nL 53.609375 0 \r\nL 7.328125 0 \r\nL 7.328125 8.296875 \r\nQ 12.9375 14.109375 22.625 23.890625 \r\nQ 32.328125 33.6875 34.8125 36.53125 \r\nQ 39.546875 41.84375 41.421875 45.53125 \r\nQ 43.3125 49.21875 43.3125 52.78125 \r\nQ 43.3125 58.59375 39.234375 62.25 \r\nQ 35.15625 65.921875 28.609375 65.921875 \r\nQ 23.96875 65.921875 18.8125 64.3125 \r\nQ 13.671875 62.703125 7.8125 59.421875 \r\nL 7.8125 69.390625 \r\nQ 13.765625 71.78125 18.9375 73 \r\nQ 24.125 74.21875 28.421875 74.21875 \r\nQ 39.75 74.21875 46.484375 68.546875 \r\nQ 53.21875 62.890625 53.21875 53.421875 \r\nQ 53.21875 48.921875 51.53125 44.890625 \r\nQ 49.859375 40.875 45.40625 35.40625 \r\nQ 44.1875 33.984375 37.640625 27.21875 \r\nQ 31.109375 20.453125 19.1875 8.296875 \r\nz\r\n\" id=\"DejaVuSans-50\"/>\r\n      </defs>\r\n      <g transform=\"translate(70.124505 241.748486)scale(0.1 -0.1)\">\r\n       <use xlink:href=\"#DejaVuSans-49\"/>\r\n       <use x=\"63.623047\" xlink:href=\"#DejaVuSans-55\"/>\r\n       <use x=\"127.246094\" xlink:href=\"#DejaVuSans-50\"/>\r\n       <use x=\"190.869141\" xlink:href=\"#DejaVuSans-48\"/>\r\n      </g>\r\n     </g>\r\n    </g>\r\n    <g id=\"xtick_3\">\r\n     <g id=\"line2d_3\">\r\n      <g>\r\n       <use style=\"stroke:#000000;stroke-width:0.8;\" x=\"118.35804\" xlink:href=\"#m2ac286addc\" y=\"227.150049\"/>\r\n      </g>\r\n     </g>\r\n     <g id=\"text_3\">\r\n      <!-- 1760 -->\r\n      <g transform=\"translate(105.63304 241.748486)scale(0.1 -0.1)\">\r\n       <use xlink:href=\"#DejaVuSans-49\"/>\r\n       <use x=\"63.623047\" xlink:href=\"#DejaVuSans-55\"/>\r\n       <use x=\"127.246094\" xlink:href=\"#DejaVuSans-54\"/>\r\n       <use x=\"190.869141\" xlink:href=\"#DejaVuSans-48\"/>\r\n      </g>\r\n     </g>\r\n    </g>\r\n    <g id=\"xtick_4\">\r\n     <g id=\"line2d_4\">\r\n      <g>\r\n       <use style=\"stroke:#000000;stroke-width:0.8;\" x=\"153.866575\" xlink:href=\"#m2ac286addc\" y=\"227.150049\"/>\r\n      </g>\r\n     </g>\r\n     <g id=\"text_4\">\r\n      <!-- 1800 -->\r\n      <g transform=\"translate(141.141575 241.748486)scale(0.1 -0.1)\">\r\n       <use xlink:href=\"#DejaVuSans-49\"/>\r\n       <use x=\"63.623047\" xlink:href=\"#DejaVuSans-56\"/>\r\n       <use x=\"127.246094\" xlink:href=\"#DejaVuSans-48\"/>\r\n       <use x=\"190.869141\" xlink:href=\"#DejaVuSans-48\"/>\r\n      </g>\r\n     </g>\r\n    </g>\r\n    <g id=\"xtick_5\">\r\n     <g id=\"line2d_5\">\r\n      <g>\r\n       <use style=\"stroke:#000000;stroke-width:0.8;\" x=\"189.37268\" xlink:href=\"#m2ac286addc\" y=\"227.150049\"/>\r\n      </g>\r\n     </g>\r\n     <g id=\"text_5\">\r\n      <!-- 1840 -->\r\n      <defs>\r\n       <path d=\"M 37.796875 64.3125 \r\nL 12.890625 25.390625 \r\nL 37.796875 25.390625 \r\nz\r\nM 35.203125 72.90625 \r\nL 47.609375 72.90625 \r\nL 47.609375 25.390625 \r\nL 58.015625 25.390625 \r\nL 58.015625 17.1875 \r\nL 47.609375 17.1875 \r\nL 47.609375 0 \r\nL 37.796875 0 \r\nL 37.796875 17.1875 \r\nL 4.890625 17.1875 \r\nL 4.890625 26.703125 \r\nz\r\n\" id=\"DejaVuSans-52\"/>\r\n      </defs>\r\n      <g transform=\"translate(176.64768 241.748486)scale(0.1 -0.1)\">\r\n       <use xlink:href=\"#DejaVuSans-49\"/>\r\n       <use x=\"63.623047\" xlink:href=\"#DejaVuSans-56\"/>\r\n       <use x=\"127.246094\" xlink:href=\"#DejaVuSans-52\"/>\r\n       <use x=\"190.869141\" xlink:href=\"#DejaVuSans-48\"/>\r\n      </g>\r\n     </g>\r\n    </g>\r\n    <g id=\"xtick_6\">\r\n     <g id=\"line2d_6\">\r\n      <g>\r\n       <use style=\"stroke:#000000;stroke-width:0.8;\" x=\"224.881215\" xlink:href=\"#m2ac286addc\" y=\"227.150049\"/>\r\n      </g>\r\n     </g>\r\n     <g id=\"text_6\">\r\n      <!-- 1880 -->\r\n      <g transform=\"translate(212.156215 241.748486)scale(0.1 -0.1)\">\r\n       <use xlink:href=\"#DejaVuSans-49\"/>\r\n       <use x=\"63.623047\" xlink:href=\"#DejaVuSans-56\"/>\r\n       <use x=\"127.246094\" xlink:href=\"#DejaVuSans-56\"/>\r\n       <use x=\"190.869141\" xlink:href=\"#DejaVuSans-48\"/>\r\n      </g>\r\n     </g>\r\n    </g>\r\n    <g id=\"xtick_7\">\r\n     <g id=\"line2d_7\">\r\n      <g>\r\n       <use style=\"stroke:#000000;stroke-width:0.8;\" x=\"260.38732\" xlink:href=\"#m2ac286addc\" y=\"227.150049\"/>\r\n      </g>\r\n     </g>\r\n     <g id=\"text_7\">\r\n      <!-- 1920 -->\r\n      <defs>\r\n       <path d=\"M 10.984375 1.515625 \r\nL 10.984375 10.5 \r\nQ 14.703125 8.734375 18.5 7.8125 \r\nQ 22.3125 6.890625 25.984375 6.890625 \r\nQ 35.75 6.890625 40.890625 13.453125 \r\nQ 46.046875 20.015625 46.78125 33.40625 \r\nQ 43.953125 29.203125 39.59375 26.953125 \r\nQ 35.25 24.703125 29.984375 24.703125 \r\nQ 19.046875 24.703125 12.671875 31.3125 \r\nQ 6.296875 37.9375 6.296875 49.421875 \r\nQ 6.296875 60.640625 12.9375 67.421875 \r\nQ 19.578125 74.21875 30.609375 74.21875 \r\nQ 43.265625 74.21875 49.921875 64.515625 \r\nQ 56.59375 54.828125 56.59375 36.375 \r\nQ 56.59375 19.140625 48.40625 8.859375 \r\nQ 40.234375 -1.421875 26.421875 -1.421875 \r\nQ 22.703125 -1.421875 18.890625 -0.6875 \r\nQ 15.09375 0.046875 10.984375 1.515625 \r\nz\r\nM 30.609375 32.421875 \r\nQ 37.25 32.421875 41.125 36.953125 \r\nQ 45.015625 41.5 45.015625 49.421875 \r\nQ 45.015625 57.28125 41.125 61.84375 \r\nQ 37.25 66.40625 30.609375 66.40625 \r\nQ 23.96875 66.40625 20.09375 61.84375 \r\nQ 16.21875 57.28125 16.21875 49.421875 \r\nQ 16.21875 41.5 20.09375 36.953125 \r\nQ 23.96875 32.421875 30.609375 32.421875 \r\nz\r\n\" id=\"DejaVuSans-57\"/>\r\n      </defs>\r\n      <g transform=\"translate(247.66232 241.748486)scale(0.1 -0.1)\">\r\n       <use xlink:href=\"#DejaVuSans-49\"/>\r\n       <use x=\"63.623047\" xlink:href=\"#DejaVuSans-57\"/>\r\n       <use x=\"127.246094\" xlink:href=\"#DejaVuSans-50\"/>\r\n       <use x=\"190.869141\" xlink:href=\"#DejaVuSans-48\"/>\r\n      </g>\r\n     </g>\r\n    </g>\r\n    <g id=\"xtick_8\">\r\n     <g id=\"line2d_8\">\r\n      <g>\r\n       <use style=\"stroke:#000000;stroke-width:0.8;\" x=\"295.895855\" xlink:href=\"#m2ac286addc\" y=\"227.150049\"/>\r\n      </g>\r\n     </g>\r\n     <g id=\"text_8\">\r\n      <!-- 1960 -->\r\n      <g transform=\"translate(283.170855 241.748486)scale(0.1 -0.1)\">\r\n       <use xlink:href=\"#DejaVuSans-49\"/>\r\n       <use x=\"63.623047\" xlink:href=\"#DejaVuSans-57\"/>\r\n       <use x=\"127.246094\" xlink:href=\"#DejaVuSans-54\"/>\r\n       <use x=\"190.869141\" xlink:href=\"#DejaVuSans-48\"/>\r\n      </g>\r\n     </g>\r\n    </g>\r\n    <g id=\"xtick_9\">\r\n     <g id=\"line2d_9\">\r\n      <g>\r\n       <use style=\"stroke:#000000;stroke-width:0.8;\" x=\"331.40439\" xlink:href=\"#m2ac286addc\" y=\"227.150049\"/>\r\n      </g>\r\n     </g>\r\n     <g id=\"text_9\">\r\n      <!-- 2000 -->\r\n      <g transform=\"translate(318.67939 241.748486)scale(0.1 -0.1)\">\r\n       <use xlink:href=\"#DejaVuSans-50\"/>\r\n       <use x=\"63.623047\" xlink:href=\"#DejaVuSans-48\"/>\r\n       <use x=\"127.246094\" xlink:href=\"#DejaVuSans-48\"/>\r\n       <use x=\"190.869141\" xlink:href=\"#DejaVuSans-48\"/>\r\n      </g>\r\n     </g>\r\n    </g>\r\n   </g>\r\n   <g id=\"matplotlib.axis_2\">\r\n    <g id=\"ytick_1\">\r\n     <g id=\"line2d_10\">\r\n      <defs>\r\n       <path d=\"M 0 0 \r\nL -3.5 0 \r\n\" id=\"m4e81a60234\" style=\"stroke:#000000;stroke-width:0.8;\"/>\r\n      </defs>\r\n      <g>\r\n       <use style=\"stroke:#000000;stroke-width:0.8;\" x=\"30.103125\" xlink:href=\"#m4e81a60234\" y=\"217.266412\"/>\r\n      </g>\r\n     </g>\r\n     <g id=\"text_10\">\r\n      <!-- 1.2 -->\r\n      <defs>\r\n       <path d=\"M 10.6875 12.40625 \r\nL 21 12.40625 \r\nL 21 0 \r\nL 10.6875 0 \r\nz\r\n\" id=\"DejaVuSans-46\"/>\r\n      </defs>\r\n      <g transform=\"translate(7.2 221.065631)scale(0.1 -0.1)\">\r\n       <use xlink:href=\"#DejaVuSans-49\"/>\r\n       <use x=\"63.623047\" xlink:href=\"#DejaVuSans-46\"/>\r\n       <use x=\"95.410156\" xlink:href=\"#DejaVuSans-50\"/>\r\n      </g>\r\n     </g>\r\n    </g>\r\n    <g id=\"ytick_2\">\r\n     <g id=\"line2d_11\">\r\n      <g>\r\n       <use style=\"stroke:#000000;stroke-width:0.8;\" x=\"30.103125\" xlink:href=\"#m4e81a60234\" y=\"182.888547\"/>\r\n      </g>\r\n     </g>\r\n     <g id=\"text_11\">\r\n      <!-- 1.4 -->\r\n      <g transform=\"translate(7.2 186.687766)scale(0.1 -0.1)\">\r\n       <use xlink:href=\"#DejaVuSans-49\"/>\r\n       <use x=\"63.623047\" xlink:href=\"#DejaVuSans-46\"/>\r\n       <use x=\"95.410156\" xlink:href=\"#DejaVuSans-52\"/>\r\n      </g>\r\n     </g>\r\n    </g>\r\n    <g id=\"ytick_3\">\r\n     <g id=\"line2d_12\">\r\n      <g>\r\n       <use style=\"stroke:#000000;stroke-width:0.8;\" x=\"30.103125\" xlink:href=\"#m4e81a60234\" y=\"148.510681\"/>\r\n      </g>\r\n     </g>\r\n     <g id=\"text_12\">\r\n      <!-- 1.6 -->\r\n      <g transform=\"translate(7.2 152.3099)scale(0.1 -0.1)\">\r\n       <use xlink:href=\"#DejaVuSans-49\"/>\r\n       <use x=\"63.623047\" xlink:href=\"#DejaVuSans-46\"/>\r\n       <use x=\"95.410156\" xlink:href=\"#DejaVuSans-54\"/>\r\n      </g>\r\n     </g>\r\n    </g>\r\n    <g id=\"ytick_4\">\r\n     <g id=\"line2d_13\">\r\n      <g>\r\n       <use style=\"stroke:#000000;stroke-width:0.8;\" x=\"30.103125\" xlink:href=\"#m4e81a60234\" y=\"114.132816\"/>\r\n      </g>\r\n     </g>\r\n     <g id=\"text_13\">\r\n      <!-- 1.8 -->\r\n      <g transform=\"translate(7.2 117.932034)scale(0.1 -0.1)\">\r\n       <use xlink:href=\"#DejaVuSans-49\"/>\r\n       <use x=\"63.623047\" xlink:href=\"#DejaVuSans-46\"/>\r\n       <use x=\"95.410156\" xlink:href=\"#DejaVuSans-56\"/>\r\n      </g>\r\n     </g>\r\n    </g>\r\n    <g id=\"ytick_5\">\r\n     <g id=\"line2d_14\">\r\n      <g>\r\n       <use style=\"stroke:#000000;stroke-width:0.8;\" x=\"30.103125\" xlink:href=\"#m4e81a60234\" y=\"79.75495\"/>\r\n      </g>\r\n     </g>\r\n     <g id=\"text_14\">\r\n      <!-- 2.0 -->\r\n      <g transform=\"translate(7.2 83.554169)scale(0.1 -0.1)\">\r\n       <use xlink:href=\"#DejaVuSans-50\"/>\r\n       <use x=\"63.623047\" xlink:href=\"#DejaVuSans-46\"/>\r\n       <use x=\"95.410156\" xlink:href=\"#DejaVuSans-48\"/>\r\n      </g>\r\n     </g>\r\n    </g>\r\n    <g id=\"ytick_6\">\r\n     <g id=\"line2d_15\">\r\n      <g>\r\n       <use style=\"stroke:#000000;stroke-width:0.8;\" x=\"30.103125\" xlink:href=\"#m4e81a60234\" y=\"45.377084\"/>\r\n      </g>\r\n     </g>\r\n     <g id=\"text_15\">\r\n      <!-- 2.2 -->\r\n      <g transform=\"translate(7.2 49.176303)scale(0.1 -0.1)\">\r\n       <use xlink:href=\"#DejaVuSans-50\"/>\r\n       <use x=\"63.623047\" xlink:href=\"#DejaVuSans-46\"/>\r\n       <use x=\"95.410156\" xlink:href=\"#DejaVuSans-50\"/>\r\n      </g>\r\n     </g>\r\n    </g>\r\n    <g id=\"ytick_7\">\r\n     <g id=\"line2d_16\">\r\n      <g>\r\n       <use style=\"stroke:#000000;stroke-width:0.8;\" x=\"30.103125\" xlink:href=\"#m4e81a60234\" y=\"10.999219\"/>\r\n      </g>\r\n     </g>\r\n     <g id=\"text_16\">\r\n      <!-- 2.4 -->\r\n      <g transform=\"translate(7.2 14.798437)scale(0.1 -0.1)\">\r\n       <use xlink:href=\"#DejaVuSans-50\"/>\r\n       <use x=\"63.623047\" xlink:href=\"#DejaVuSans-46\"/>\r\n       <use x=\"95.410156\" xlink:href=\"#DejaVuSans-52\"/>\r\n      </g>\r\n     </g>\r\n    </g>\r\n   </g>\r\n   <g id=\"line2d_17\">\r\n    <path clip-path=\"url(#p3024eaa426)\" d=\"M 349.681416 150.229574 \r\nL 349.683787 217.266412 \r\nL 349.682454 19.593685 \r\nL 349.684192 174.29408 \r\nL 45.321307 172.575187 \r\nL 45.321307 172.575187 \r\n\" style=\"fill:none;stroke:#1f77b4;stroke-linecap:square;stroke-width:1.5;\"/>\r\n   </g>\r\n   <g id=\"line2d_18\">\r\n    <path clip-path=\"url(#p3024eaa426)\" d=\"M 349.681416 150.28221 \r\nL 349.682091 39.089719 \r\nL 349.683804 201.601635 \r\nL 349.684192 178.380553 \r\nL 45.321307 175.482518 \r\nL 45.321307 175.482518 \r\n\" style=\"fill:none;stroke:#ff7f0e;stroke-linecap:square;stroke-width:1.5;\"/>\r\n   </g>\r\n   <g id=\"patch_3\">\r\n    <path d=\"M 30.103125 227.150049 \r\nL 30.103125 9.710049 \r\n\" style=\"fill:none;stroke:#000000;stroke-linecap:square;stroke-linejoin:miter;stroke-width:0.8;\"/>\r\n   </g>\r\n   <g id=\"patch_4\">\r\n    <path d=\"M 364.903125 227.150049 \r\nL 364.903125 9.710049 \r\n\" style=\"fill:none;stroke:#000000;stroke-linecap:square;stroke-linejoin:miter;stroke-width:0.8;\"/>\r\n   </g>\r\n   <g id=\"patch_5\">\r\n    <path d=\"M 30.103125 227.150049 \r\nL 364.903125 227.150049 \r\n\" style=\"fill:none;stroke:#000000;stroke-linecap:square;stroke-linejoin:miter;stroke-width:0.8;\"/>\r\n   </g>\r\n   <g id=\"patch_6\">\r\n    <path d=\"M 30.103125 9.710049 \r\nL 364.903125 9.710049 \r\n\" style=\"fill:none;stroke:#000000;stroke-linecap:square;stroke-linejoin:miter;stroke-width:0.8;\"/>\r\n   </g>\r\n  </g>\r\n </g>\r\n <defs>\r\n  <clipPath id=\"p3024eaa426\">\r\n   <rect height=\"217.44\" width=\"334.8\" x=\"30.103125\" y=\"9.710049\"/>\r\n  </clipPath>\r\n </defs>\r\n</svg>\r\n",
      "image/png": "[encoded data removed]"
     },
     "metadata": {
      "needs_background": "light"
     }
    }
   ],
   "source": [
    "#for plotting\n",
    "import matplotlib.pyplot as plt\n",
    "\n",
    "train = prices[:train_cutoff]\n",
    "valid = prices[train_cutoff:]\n",
    "valid['Predictions'] = closing_price\n",
    "#plt.plot(train['price_diff_pct'])\n",
    "plt.plot(valid[['price_diff_pct','Predictions']])"
   ]
  },
  {
   "cell_type": "code",
   "execution_count": 81,
   "metadata": {},
   "outputs": [
    {
     "output_type": "execute_result",
     "data": {
      "text/plain": "                     price_diff_pct  Predictions\ndate                                            \n2020-08-03 02:08:00            1.59     1.589694\n2020-08-03 02:13:00            1.57     1.599501\n2020-08-03 02:18:00            1.58     1.605032\n2020-08-03 02:23:00            1.59     1.609120\n2020-08-03 02:28:00            1.58     1.613242\n2020-08-03 02:33:00            1.54     1.615539\n2020-08-03 02:38:00            1.43     1.611471\n2020-08-03 02:43:00            1.44     1.590614\n2020-08-03 02:48:00            1.45     1.565873\n2020-08-03 02:53:00            1.45     1.543575\n2020-08-03 02:58:00            1.44     1.525392\n2020-08-03 03:03:00            1.44     1.510425\n2020-08-03 03:08:00            1.44     1.499104\n2020-08-03 03:13:00            1.44     1.491115\n2020-08-03 03:18:00            1.42     1.485866\n2020-08-03 03:23:00            1.59     1.480165\n2020-08-03 03:28:00            1.59     1.496575\n2020-08-03 03:33:00            1.61     1.521791\n2020-08-03 03:38:00            1.62     1.551010\n2020-08-03 03:43:00            1.63     1.579755\n2020-08-03 03:48:00            1.63     1.605771\n2020-08-03 03:53:00            1.59     1.626917\n2020-08-03 03:58:00            1.57     1.637493\n2020-08-03 04:03:00            1.72     1.638825\n2020-08-03 04:08:00            1.73     1.655191\n2020-08-03 04:13:00            1.73     1.677668\n2020-08-03 04:18:00            1.77     1.700382\n2020-08-03 04:23:00            1.49     1.725668\n2020-08-03 04:28:00            1.49     1.710889\n2020-08-03 04:33:00            1.52     1.679841\n...                             ...          ...\n2020-08-04 03:28:00            1.39     1.441280\n2020-08-04 03:33:00            1.36     1.441851\n2020-08-04 03:43:00            1.35     1.436710\n2020-08-04 03:48:00            1.33     1.428134\n2020-08-04 03:53:00            1.35     1.416428\n2020-08-04 03:58:00            1.35     1.407128\n2020-08-04 04:03:00            1.35     1.400200\n2020-08-04 04:08:00            1.35     1.395394\n2020-08-04 04:13:00            1.35     1.392302\n2020-08-04 04:18:00            1.36     1.390489\n2020-08-04 04:23:00            1.35     1.390796\n2020-08-04 04:28:00            1.35     1.390904\n2020-08-04 04:33:00            1.35     1.390914\n2020-08-04 04:38:00            1.35     1.390859\n2020-08-04 04:39:00            1.35     1.390768\n2020-08-04 04:39:00            1.35     1.390661\n2020-08-04 04:40:00            1.35     1.390551\n2020-08-04 04:42:00            1.34     1.390446\n2020-08-04 04:43:00            1.34     1.389118\n2020-08-04 04:48:00            1.35     1.387337\n2020-08-04 04:53:00            1.41     1.386762\n2020-08-04 04:58:00            1.31     1.394253\n2020-08-04 05:03:00            1.33     1.392534\n2020-08-04 05:08:00            1.37     1.388957\n2020-08-04 05:13:00            1.36     1.389694\n2020-08-04 05:18:00            1.36     1.391260\n2020-08-04 05:23:00            1.47     1.393100\n2020-08-04 05:28:00            1.45     1.408462\n2020-08-04 05:33:00            1.45     1.426226\nNaT                            1.46     1.443086\n\n[343 rows x 2 columns]",
      "text/html": "<div>\n<style scoped>\n    .dataframe tbody tr th:only-of-type {\n        vertical-align: middle;\n    }\n\n    .dataframe tbody tr th {\n        vertical-align: top;\n    }\n\n    .dataframe thead th {\n        text-align: right;\n    }\n</style>\n<table border=\"1\" class=\"dataframe\">\n  <thead>\n    <tr style=\"text-align: right;\">\n      <th></th>\n      <th>price_diff_pct</th>\n      <th>Predictions</th>\n    </tr>\n    <tr>\n      <th>date</th>\n      <th></th>\n      <th></th>\n    </tr>\n  </thead>\n  <tbody>\n    <tr>\n      <th>2020-08-03 02:08:00</th>\n      <td>1.59</td>\n      <td>1.589694</td>\n    </tr>\n    <tr>\n      <th>2020-08-03 02:13:00</th>\n      <td>1.57</td>\n      <td>1.599501</td>\n    </tr>\n    <tr>\n      <th>2020-08-03 02:18:00</th>\n      <td>1.58</td>\n      <td>1.605032</td>\n    </tr>\n    <tr>\n      <th>2020-08-03 02:23:00</th>\n      <td>1.59</td>\n      <td>1.609120</td>\n    </tr>\n    <tr>\n      <th>2020-08-03 02:28:00</th>\n      <td>1.58</td>\n      <td>1.613242</td>\n    </tr>\n    <tr>\n      <th>2020-08-03 02:33:00</th>\n      <td>1.54</td>\n      <td>1.615539</td>\n    </tr>\n    <tr>\n      <th>2020-08-03 02:38:00</th>\n      <td>1.43</td>\n      <td>1.611471</td>\n    </tr>\n    <tr>\n      <th>2020-08-03 02:43:00</th>\n      <td>1.44</td>\n      <td>1.590614</td>\n    </tr>\n    <tr>\n      <th>2020-08-03 02:48:00</th>\n      <td>1.45</td>\n      <td>1.565873</td>\n    </tr>\n    <tr>\n      <th>2020-08-03 02:53:00</th>\n      <td>1.45</td>\n      <td>1.543575</td>\n    </tr>\n    <tr>\n      <th>2020-08-03 02:58:00</th>\n      <td>1.44</td>\n      <td>1.525392</td>\n    </tr>\n    <tr>\n      <th>2020-08-03 03:03:00</th>\n      <td>1.44</td>\n      <td>1.510425</td>\n    </tr>\n    <tr>\n      <th>2020-08-03 03:08:00</th>\n      <td>1.44</td>\n      <td>1.499104</td>\n    </tr>\n    <tr>\n      <th>2020-08-03 03:13:00</th>\n      <td>1.44</td>\n      <td>1.491115</td>\n    </tr>\n    <tr>\n      <th>2020-08-03 03:18:00</th>\n      <td>1.42</td>\n      <td>1.485866</td>\n    </tr>\n    <tr>\n      <th>2020-08-03 03:23:00</th>\n      <td>1.59</td>\n      <td>1.480165</td>\n    </tr>\n    <tr>\n      <th>2020-08-03 03:28:00</th>\n      <td>1.59</td>\n      <td>1.496575</td>\n    </tr>\n    <tr>\n      <th>2020-08-03 03:33:00</th>\n      <td>1.61</td>\n      <td>1.521791</td>\n    </tr>\n    <tr>\n      <th>2020-08-03 03:38:00</th>\n      <td>1.62</td>\n      <td>1.551010</td>\n    </tr>\n    <tr>\n      <th>2020-08-03 03:43:00</th>\n      <td>1.63</td>\n      <td>1.579755</td>\n    </tr>\n    <tr>\n      <th>2020-08-03 03:48:00</th>\n      <td>1.63</td>\n      <td>1.605771</td>\n    </tr>\n    <tr>\n      <th>2020-08-03 03:53:00</th>\n      <td>1.59</td>\n      <td>1.626917</td>\n    </tr>\n    <tr>\n      <th>2020-08-03 03:58:00</th>\n      <td>1.57</td>\n      <td>1.637493</td>\n    </tr>\n    <tr>\n      <th>2020-08-03 04:03:00</th>\n      <td>1.72</td>\n      <td>1.638825</td>\n    </tr>\n    <tr>\n      <th>2020-08-03 04:08:00</th>\n      <td>1.73</td>\n      <td>1.655191</td>\n    </tr>\n    <tr>\n      <th>2020-08-03 04:13:00</th>\n      <td>1.73</td>\n      <td>1.677668</td>\n    </tr>\n    <tr>\n      <th>2020-08-03 04:18:00</th>\n      <td>1.77</td>\n      <td>1.700382</td>\n    </tr>\n    <tr>\n      <th>2020-08-03 04:23:00</th>\n      <td>1.49</td>\n      <td>1.725668</td>\n    </tr>\n    <tr>\n      <th>2020-08-03 04:28:00</th>\n      <td>1.49</td>\n      <td>1.710889</td>\n    </tr>\n    <tr>\n      <th>2020-08-03 04:33:00</th>\n      <td>1.52</td>\n      <td>1.679841</td>\n    </tr>\n    <tr>\n      <th>...</th>\n      <td>...</td>\n      <td>...</td>\n    </tr>\n    <tr>\n      <th>2020-08-04 03:28:00</th>\n      <td>1.39</td>\n      <td>1.441280</td>\n    </tr>\n    <tr>\n      <th>2020-08-04 03:33:00</th>\n      <td>1.36</td>\n      <td>1.441851</td>\n    </tr>\n    <tr>\n      <th>2020-08-04 03:43:00</th>\n      <td>1.35</td>\n      <td>1.436710</td>\n    </tr>\n    <tr>\n      <th>2020-08-04 03:48:00</th>\n      <td>1.33</td>\n      <td>1.428134</td>\n    </tr>\n    <tr>\n      <th>2020-08-04 03:53:00</th>\n      <td>1.35</td>\n      <td>1.416428</td>\n    </tr>\n    <tr>\n      <th>2020-08-04 03:58:00</th>\n      <td>1.35</td>\n      <td>1.407128</td>\n    </tr>\n    <tr>\n      <th>2020-08-04 04:03:00</th>\n      <td>1.35</td>\n      <td>1.400200</td>\n    </tr>\n    <tr>\n      <th>2020-08-04 04:08:00</th>\n      <td>1.35</td>\n      <td>1.395394</td>\n    </tr>\n    <tr>\n      <th>2020-08-04 04:13:00</th>\n      <td>1.35</td>\n      <td>1.392302</td>\n    </tr>\n    <tr>\n      <th>2020-08-04 04:18:00</th>\n      <td>1.36</td>\n      <td>1.390489</td>\n    </tr>\n    <tr>\n      <th>2020-08-04 04:23:00</th>\n      <td>1.35</td>\n      <td>1.390796</td>\n    </tr>\n    <tr>\n      <th>2020-08-04 04:28:00</th>\n      <td>1.35</td>\n      <td>1.390904</td>\n    </tr>\n    <tr>\n      <th>2020-08-04 04:33:00</th>\n      <td>1.35</td>\n      <td>1.390914</td>\n    </tr>\n    <tr>\n      <th>2020-08-04 04:38:00</th>\n      <td>1.35</td>\n      <td>1.390859</td>\n    </tr>\n    <tr>\n      <th>2020-08-04 04:39:00</th>\n      <td>1.35</td>\n      <td>1.390768</td>\n    </tr>\n    <tr>\n      <th>2020-08-04 04:39:00</th>\n      <td>1.35</td>\n      <td>1.390661</td>\n    </tr>\n    <tr>\n      <th>2020-08-04 04:40:00</th>\n      <td>1.35</td>\n      <td>1.390551</td>\n    </tr>\n    <tr>\n      <th>2020-08-04 04:42:00</th>\n      <td>1.34</td>\n      <td>1.390446</td>\n    </tr>\n    <tr>\n      <th>2020-08-04 04:43:00</th>\n      <td>1.34</td>\n      <td>1.389118</td>\n    </tr>\n    <tr>\n      <th>2020-08-04 04:48:00</th>\n      <td>1.35</td>\n      <td>1.387337</td>\n    </tr>\n    <tr>\n      <th>2020-08-04 04:53:00</th>\n      <td>1.41</td>\n      <td>1.386762</td>\n    </tr>\n    <tr>\n      <th>2020-08-04 04:58:00</th>\n      <td>1.31</td>\n      <td>1.394253</td>\n    </tr>\n    <tr>\n      <th>2020-08-04 05:03:00</th>\n      <td>1.33</td>\n      <td>1.392534</td>\n    </tr>\n    <tr>\n      <th>2020-08-04 05:08:00</th>\n      <td>1.37</td>\n      <td>1.388957</td>\n    </tr>\n    <tr>\n      <th>2020-08-04 05:13:00</th>\n      <td>1.36</td>\n      <td>1.389694</td>\n    </tr>\n    <tr>\n      <th>2020-08-04 05:18:00</th>\n      <td>1.36</td>\n      <td>1.391260</td>\n    </tr>\n    <tr>\n      <th>2020-08-04 05:23:00</th>\n      <td>1.47</td>\n      <td>1.393100</td>\n    </tr>\n    <tr>\n      <th>2020-08-04 05:28:00</th>\n      <td>1.45</td>\n      <td>1.408462</td>\n    </tr>\n    <tr>\n      <th>2020-08-04 05:33:00</th>\n      <td>1.45</td>\n      <td>1.426226</td>\n    </tr>\n    <tr>\n      <th>NaT</th>\n      <td>1.46</td>\n      <td>1.443086</td>\n    </tr>\n  </tbody>\n</table>\n<p>343 rows × 2 columns</p>\n</div>"
     },
     "metadata": {},
     "execution_count": 81
    }
   ],
   "source": [
    "# 24hr hi/lo\n",
    "# 7day hi/lo\n",
    "# moving avgs\n",
    "# moving SDs"
   ]
  }
 ]
}