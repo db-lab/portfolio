{
 "metadata": {
  "language_info": {
   "codemirror_mode": {
    "name": "ipython",
    "version": 3
   },
   "file_extension": ".py",
   "mimetype": "text/x-python",
   "name": "python",
   "nbconvert_exporter": "python",
   "pygments_lexer": "ipython3",
   "version": 3
  },
  "orig_nbformat": 2,
  "kernelspec": {
   "name": "python_defaultSpec_1596550542271",
   "display_name": "Python 3.7.3 64-bit ('ProgramData': virtualenv)"
  }
 },
 "nbformat": 4,
 "nbformat_minor": 2,
 "cells": [
  {
   "cell_type": "code",
   "execution_count": 2,
   "metadata": {},
   "outputs": [
    {
     "output_type": "execute_result",
     "data": {
      "text/plain": "     Unnamed: 0  1600000_slippage  ...     price             time\n147         147          0.000000  ...  1.012608  09:11:05.564296\n148         148          0.001914  ...  0.985026  09:11:10.710394\n149         149          0.001656  ...  0.984768  09:11:10.710394\n150         150          0.001122  ...  0.984234  09:11:10.710394\n151         151          0.000000  ...  0.983113  09:11:10.710394\n\n[5 rows x 15 columns]",
      "text/html": "<div>\n<style scoped>\n    .dataframe tbody tr th:only-of-type {\n        vertical-align: middle;\n    }\n\n    .dataframe tbody tr th {\n        vertical-align: top;\n    }\n\n    .dataframe thead th {\n        text-align: right;\n    }\n</style>\n<table border=\"1\" class=\"dataframe\">\n  <thead>\n    <tr style=\"text-align: right;\">\n      <th></th>\n      <th>Unnamed: 0</th>\n      <th>1600000_slippage</th>\n      <th>200000_slippage</th>\n      <th>400000_slippage</th>\n      <th>800000_slippage</th>\n      <th>amount</th>\n      <th>dai_to_usdc</th>\n      <th>date</th>\n      <th>liquidity_curve_susd</th>\n      <th>liquidity_curvefi</th>\n      <th>liquidity_oasis</th>\n      <th>liquidity_uniswap_v2</th>\n      <th>liquidity_zero_x</th>\n      <th>price</th>\n      <th>time</th>\n    </tr>\n  </thead>\n  <tbody>\n    <tr>\n      <th>147</th>\n      <td>147</td>\n      <td>0.000000</td>\n      <td>0</td>\n      <td>0.000000</td>\n      <td>0.000000</td>\n      <td>1600000</td>\n      <td>1</td>\n      <td>2020-08-04</td>\n      <td>49</td>\n      <td>40</td>\n      <td>8.0</td>\n      <td>NaN</td>\n      <td>3.0</td>\n      <td>1.012608</td>\n      <td>09:11:05.564296</td>\n    </tr>\n    <tr>\n      <th>148</th>\n      <td>148</td>\n      <td>0.001914</td>\n      <td>0</td>\n      <td>0.000258</td>\n      <td>0.000792</td>\n      <td>200000</td>\n      <td>0</td>\n      <td>2020-08-04</td>\n      <td>47</td>\n      <td>53</td>\n      <td>0.0</td>\n      <td>NaN</td>\n      <td>NaN</td>\n      <td>0.985026</td>\n      <td>09:11:10.710394</td>\n    </tr>\n    <tr>\n      <th>149</th>\n      <td>149</td>\n      <td>0.001656</td>\n      <td>0</td>\n      <td>0.000000</td>\n      <td>0.000534</td>\n      <td>400000</td>\n      <td>0</td>\n      <td>2020-08-04</td>\n      <td>51</td>\n      <td>49</td>\n      <td>0.0</td>\n      <td>NaN</td>\n      <td>NaN</td>\n      <td>0.984768</td>\n      <td>09:11:10.710394</td>\n    </tr>\n    <tr>\n      <th>150</th>\n      <td>150</td>\n      <td>0.001122</td>\n      <td>0</td>\n      <td>0.000000</td>\n      <td>0.000000</td>\n      <td>800000</td>\n      <td>0</td>\n      <td>2020-08-04</td>\n      <td>53</td>\n      <td>47</td>\n      <td>0.0</td>\n      <td>NaN</td>\n      <td>NaN</td>\n      <td>0.984234</td>\n      <td>09:11:10.710394</td>\n    </tr>\n    <tr>\n      <th>151</th>\n      <td>151</td>\n      <td>0.000000</td>\n      <td>0</td>\n      <td>0.000000</td>\n      <td>0.000000</td>\n      <td>1600000</td>\n      <td>0</td>\n      <td>2020-08-04</td>\n      <td>53</td>\n      <td>43</td>\n      <td>4.0</td>\n      <td>NaN</td>\n      <td>NaN</td>\n      <td>0.983113</td>\n      <td>09:11:10.710394</td>\n    </tr>\n  </tbody>\n</table>\n</div>"
     },
     "metadata": {},
     "execution_count": 2
    }
   ],
   "source": [
    "import pandas as pd\n",
    "import numpy as np\n",
    "\n",
    "slippage = pd.read_csv('slippage.csv')\n"
   ]
  },
  {
   "cell_type": "code",
   "execution_count": 5,
   "metadata": {},
   "outputs": [
    {
     "output_type": "execute_result",
     "data": {
      "text/plain": "         date             time  ...  liquidity_uniswap_v2  liquidity_zero_x\n0  2020-08-04  00:08:13.842727  ...                   NaN               2.0\n1  2020-08-04  00:08:13.842727  ...                   NaN               1.0\n2  2020-08-04  00:08:13.842727  ...                   NaN               4.0\n3  2020-08-04  00:08:13.842727  ...                   NaN               3.0\n4  2020-08-04  00:08:18.986078  ...                   NaN               0.0\n\n[5 rows x 14 columns]",
      "text/html": "<div>\n<style scoped>\n    .dataframe tbody tr th:only-of-type {\n        vertical-align: middle;\n    }\n\n    .dataframe tbody tr th {\n        vertical-align: top;\n    }\n\n    .dataframe thead th {\n        text-align: right;\n    }\n</style>\n<table border=\"1\" class=\"dataframe\">\n  <thead>\n    <tr style=\"text-align: right;\">\n      <th></th>\n      <th>date</th>\n      <th>time</th>\n      <th>dai_to_usdc</th>\n      <th>amount</th>\n      <th>price</th>\n      <th>200000_slippage</th>\n      <th>400000_slippage</th>\n      <th>800000_slippage</th>\n      <th>1600000_slippage</th>\n      <th>liquidity_curve_susd</th>\n      <th>liquidity_curvefi</th>\n      <th>liquidity_oasis</th>\n      <th>liquidity_uniswap_v2</th>\n      <th>liquidity_zero_x</th>\n    </tr>\n  </thead>\n  <tbody>\n    <tr>\n      <th>0</th>\n      <td>2020-08-04</td>\n      <td>00:08:13.842727</td>\n      <td>1</td>\n      <td>200000</td>\n      <td>1.014572</td>\n      <td>0</td>\n      <td>0.000279</td>\n      <td>0.000767</td>\n      <td>0.001563</td>\n      <td>53</td>\n      <td>45</td>\n      <td>0.0</td>\n      <td>NaN</td>\n      <td>2.0</td>\n    </tr>\n    <tr>\n      <th>1</th>\n      <td>2020-08-04</td>\n      <td>00:08:13.842727</td>\n      <td>1</td>\n      <td>400000</td>\n      <td>1.014293</td>\n      <td>0</td>\n      <td>0.000000</td>\n      <td>0.000488</td>\n      <td>0.001285</td>\n      <td>53</td>\n      <td>46</td>\n      <td>0.0</td>\n      <td>NaN</td>\n      <td>1.0</td>\n    </tr>\n    <tr>\n      <th>2</th>\n      <td>2020-08-04</td>\n      <td>00:08:13.842727</td>\n      <td>1</td>\n      <td>800000</td>\n      <td>1.013805</td>\n      <td>0</td>\n      <td>0.000000</td>\n      <td>0.000000</td>\n      <td>0.000797</td>\n      <td>48</td>\n      <td>41</td>\n      <td>7.0</td>\n      <td>NaN</td>\n      <td>4.0</td>\n    </tr>\n    <tr>\n      <th>3</th>\n      <td>2020-08-04</td>\n      <td>00:08:13.842727</td>\n      <td>1</td>\n      <td>1600000</td>\n      <td>1.013008</td>\n      <td>0</td>\n      <td>0.000000</td>\n      <td>0.000000</td>\n      <td>0.000000</td>\n      <td>48</td>\n      <td>43</td>\n      <td>6.0</td>\n      <td>NaN</td>\n      <td>3.0</td>\n    </tr>\n    <tr>\n      <th>4</th>\n      <td>2020-08-04</td>\n      <td>00:08:18.986078</td>\n      <td>0</td>\n      <td>200000</td>\n      <td>0.984384</td>\n      <td>0</td>\n      <td>0.000268</td>\n      <td>0.000829</td>\n      <td>0.001973</td>\n      <td>55</td>\n      <td>45</td>\n      <td>0.0</td>\n      <td>NaN</td>\n      <td>0.0</td>\n    </tr>\n  </tbody>\n</table>\n</div>"
     },
     "metadata": {},
     "execution_count": 5
    }
   ],
   "source": [
    "# Organize df\n",
    "# drop index\n",
    "slippage = slippage.drop('Unnamed: 0', axis = 1)\n",
    "# Reorder cols\n",
    "slippage = slippage[['date','time','dai_to_usdc','amount','price','200000_slippage','400000_slippage','800000_slippage','1600000_slippage','liquidity_curve_susd','liquidity_curvefi','liquidity_oasis','liquidity_uniswap_v2','liquidity_zero_x']]\n",
    "# Fill NAs\n",
    "slippage = slippage.fillna(0)"
   ]
  },
  {
   "cell_type": "code",
   "execution_count": 31,
   "metadata": {},
   "outputs": [],
   "source": [
    "avg_slippage_200_400 = slippage[(slippage['amount'] == 200000) & (slippage['dai_to_usdc'] == 1)]['400000_slippage'].mean()\n",
    "avg_slippage_200_800 = slippage[(slippage['amount'] == 200000) & (slippage['dai_to_usdc'] == 1)]['800000_slippage'].mean()\n",
    "avg_slippage_200_1600 = slippage[(slippage['amount'] == 200000) & (slippage['dai_to_usdc'] == 1)]['1600000_slippage'].mean()\n",
    "avg_slippage_400_800 = slippage[(slippage['amount'] == 400000) & (slippage['dai_to_usdc'] == 1)]['800000_slippage'].mean()\n",
    "avg_slippage_400_1600 = slippage[(slippage['amount'] == 400000) & (slippage['dai_to_usdc'] == 1)]['1600000_slippage'].mean()\n",
    "avg_slippage_800_1600 = slippage[(slippage['amount'] == 800000) & (slippage['dai_to_usdc'] == 1)]['1600000_slippage'].mean()"
   ]
  },
  {
   "cell_type": "code",
   "execution_count": 32,
   "metadata": {
    "tags": []
   },
   "outputs": [
    {
     "output_type": "stream",
     "name": "stdout",
     "text": "DAI to USDC Average Slippage\n"
    },
    {
     "output_type": "display_data",
     "data": {
      "text/plain": "          400k      800k     1600k\n200k  0.000276  0.000721  0.001515\n400k       NaN  0.000445  0.001239\n800k       NaN       NaN  0.000794",
      "text/html": "<div>\n<style scoped>\n    .dataframe tbody tr th:only-of-type {\n        vertical-align: middle;\n    }\n\n    .dataframe tbody tr th {\n        vertical-align: top;\n    }\n\n    .dataframe thead th {\n        text-align: right;\n    }\n</style>\n<table border=\"1\" class=\"dataframe\">\n  <thead>\n    <tr style=\"text-align: right;\">\n      <th></th>\n      <th>400k</th>\n      <th>800k</th>\n      <th>1600k</th>\n    </tr>\n  </thead>\n  <tbody>\n    <tr>\n      <th>200k</th>\n      <td>0.000276</td>\n      <td>0.000721</td>\n      <td>0.001515</td>\n    </tr>\n    <tr>\n      <th>400k</th>\n      <td>NaN</td>\n      <td>0.000445</td>\n      <td>0.001239</td>\n    </tr>\n    <tr>\n      <th>800k</th>\n      <td>NaN</td>\n      <td>NaN</td>\n      <td>0.000794</td>\n    </tr>\n  </tbody>\n</table>\n</div>"
     },
     "metadata": {}
    }
   ],
   "source": [
    "dai_to_usdc_slippage = pd.DataFrame({'400k': [avg_slippage_200_400, np.nan, np.nan],\n",
    "                                     '800k': [avg_slippage_200_800, avg_slippage_400_800, np.nan],\n",
    "                                     '1600k': [avg_slippage_200_1600, avg_slippage_400_1600, avg_slippage_800_1600]}, index=['200k','400k','800k'])\n",
    "\n",
    "print('DAI to USDC Average Slippage')\n",
    "display(dai_to_usdc_slippage)"
   ]
  },
  {
   "cell_type": "code",
   "execution_count": 33,
   "metadata": {
    "tags": []
   },
   "outputs": [
    {
     "output_type": "stream",
     "name": "stdout",
     "text": "USDC to DAI Average Slippage\n"
    },
    {
     "output_type": "display_data",
     "data": {
      "text/plain": "          400k      800k     1600k\n200k  0.000289  0.000832  0.001943\n400k       NaN  0.000542  0.001653\n800k       NaN       NaN  0.001111",
      "text/html": "<div>\n<style scoped>\n    .dataframe tbody tr th:only-of-type {\n        vertical-align: middle;\n    }\n\n    .dataframe tbody tr th {\n        vertical-align: top;\n    }\n\n    .dataframe thead th {\n        text-align: right;\n    }\n</style>\n<table border=\"1\" class=\"dataframe\">\n  <thead>\n    <tr style=\"text-align: right;\">\n      <th></th>\n      <th>400k</th>\n      <th>800k</th>\n      <th>1600k</th>\n    </tr>\n  </thead>\n  <tbody>\n    <tr>\n      <th>200k</th>\n      <td>0.000289</td>\n      <td>0.000832</td>\n      <td>0.001943</td>\n    </tr>\n    <tr>\n      <th>400k</th>\n      <td>NaN</td>\n      <td>0.000542</td>\n      <td>0.001653</td>\n    </tr>\n    <tr>\n      <th>800k</th>\n      <td>NaN</td>\n      <td>NaN</td>\n      <td>0.001111</td>\n    </tr>\n  </tbody>\n</table>\n</div>"
     },
     "metadata": {}
    }
   ],
   "source": [
    "avg_slippage_200_400 = slippage[(slippage['amount'] == 200000) & (slippage['dai_to_usdc'] == 0)]['400000_slippage'].mean()\n",
    "avg_slippage_200_800 = slippage[(slippage['amount'] == 200000) & (slippage['dai_to_usdc'] == 0)]['800000_slippage'].mean()\n",
    "avg_slippage_200_1600 = slippage[(slippage['amount'] == 200000) & (slippage['dai_to_usdc'] == 0)]['1600000_slippage'].mean()\n",
    "avg_slippage_400_800 = slippage[(slippage['amount'] == 400000) & (slippage['dai_to_usdc'] == 0)]['800000_slippage'].mean()\n",
    "avg_slippage_400_1600 = slippage[(slippage['amount'] == 400000) & (slippage['dai_to_usdc'] == 0)]['1600000_slippage'].mean()\n",
    "avg_slippage_800_1600 = slippage[(slippage['amount'] == 800000) & (slippage['dai_to_usdc'] == 0)]['1600000_slippage'].mean()\n",
    "\n",
    "usdc_to_dai_slippage = pd.DataFrame({'400k': [avg_slippage_200_400, np.nan, np.nan],\n",
    "                                     '800k': [avg_slippage_200_800, avg_slippage_400_800, np.nan],\n",
    "                                     '1600k': [avg_slippage_200_1600, avg_slippage_400_1600, avg_slippage_800_1600]}, index=['200k','400k','800k'])\n",
    "\n",
    "print('USDC to DAI Average Slippage')\n",
    "display(usdc_to_dai_slippage)"
   ]
  },
  {
   "cell_type": "code",
   "execution_count": 35,
   "metadata": {
    "tags": []
   },
   "outputs": [
    {
     "output_type": "stream",
     "name": "stdout",
     "text": "Slippage Difference Between Trading Direction\n"
    },
    {
     "output_type": "execute_result",
     "data": {
      "text/plain": "          400k      800k     1600k\n200k -0.000013 -0.000111 -0.000428\n400k       NaN -0.000098 -0.000415\n800k       NaN       NaN -0.000317",
      "text/html": "<div>\n<style scoped>\n    .dataframe tbody tr th:only-of-type {\n        vertical-align: middle;\n    }\n\n    .dataframe tbody tr th {\n        vertical-align: top;\n    }\n\n    .dataframe thead th {\n        text-align: right;\n    }\n</style>\n<table border=\"1\" class=\"dataframe\">\n  <thead>\n    <tr style=\"text-align: right;\">\n      <th></th>\n      <th>400k</th>\n      <th>800k</th>\n      <th>1600k</th>\n    </tr>\n  </thead>\n  <tbody>\n    <tr>\n      <th>200k</th>\n      <td>-0.000013</td>\n      <td>-0.000111</td>\n      <td>-0.000428</td>\n    </tr>\n    <tr>\n      <th>400k</th>\n      <td>NaN</td>\n      <td>-0.000098</td>\n      <td>-0.000415</td>\n    </tr>\n    <tr>\n      <th>800k</th>\n      <td>NaN</td>\n      <td>NaN</td>\n      <td>-0.000317</td>\n    </tr>\n  </tbody>\n</table>\n</div>"
     },
     "metadata": {},
     "execution_count": 35
    }
   ],
   "source": [
    "print('Slippage Difference Between Trading Direction')\n",
    "\n",
    "dai_to_usdc_slippage - usdc_to_dai_slippage\n"
   ]
  },
  {
   "cell_type": "code",
   "execution_count": 66,
   "metadata": {
    "tags": []
   },
   "outputs": [
    {
     "output_type": "stream",
     "name": "stdout",
     "text": "DAI to USDC Minimum Slippage\n"
    },
    {
     "output_type": "display_data",
     "data": {
      "text/plain": "          400k      800k     1600k\n200k  0.000197  0.000599  0.001354\n400k  0.000000  0.000396  0.001155\n800k  0.000000  0.000000  0.000754",
      "text/html": "<div>\n<style scoped>\n    .dataframe tbody tr th:only-of-type {\n        vertical-align: middle;\n    }\n\n    .dataframe tbody tr th {\n        vertical-align: top;\n    }\n\n    .dataframe thead th {\n        text-align: right;\n    }\n</style>\n<table border=\"1\" class=\"dataframe\">\n  <thead>\n    <tr style=\"text-align: right;\">\n      <th></th>\n      <th>400k</th>\n      <th>800k</th>\n      <th>1600k</th>\n    </tr>\n  </thead>\n  <tbody>\n    <tr>\n      <th>200k</th>\n      <td>0.000197</td>\n      <td>0.000599</td>\n      <td>0.001354</td>\n    </tr>\n    <tr>\n      <th>400k</th>\n      <td>0.000000</td>\n      <td>0.000396</td>\n      <td>0.001155</td>\n    </tr>\n    <tr>\n      <th>800k</th>\n      <td>0.000000</td>\n      <td>0.000000</td>\n      <td>0.000754</td>\n    </tr>\n  </tbody>\n</table>\n</div>"
     },
     "metadata": {}
    },
    {
     "output_type": "stream",
     "name": "stdout",
     "text": "\n\n\nUSDC to DAI Minimum Slippage\n"
    },
    {
     "output_type": "display_data",
     "data": {
      "text/plain": "          400k      800k     1600k\n200k  0.000237  0.000732  0.001813\n400k  0.000000  0.000495  0.001575\n800k  0.000000  0.000000  0.001073",
      "text/html": "<div>\n<style scoped>\n    .dataframe tbody tr th:only-of-type {\n        vertical-align: middle;\n    }\n\n    .dataframe tbody tr th {\n        vertical-align: top;\n    }\n\n    .dataframe thead th {\n        text-align: right;\n    }\n</style>\n<table border=\"1\" class=\"dataframe\">\n  <thead>\n    <tr style=\"text-align: right;\">\n      <th></th>\n      <th>400k</th>\n      <th>800k</th>\n      <th>1600k</th>\n    </tr>\n  </thead>\n  <tbody>\n    <tr>\n      <th>200k</th>\n      <td>0.000237</td>\n      <td>0.000732</td>\n      <td>0.001813</td>\n    </tr>\n    <tr>\n      <th>400k</th>\n      <td>0.000000</td>\n      <td>0.000495</td>\n      <td>0.001575</td>\n    </tr>\n    <tr>\n      <th>800k</th>\n      <td>0.000000</td>\n      <td>0.000000</td>\n      <td>0.001073</td>\n    </tr>\n  </tbody>\n</table>\n</div>"
     },
     "metadata": {}
    },
    {
     "output_type": "stream",
     "name": "stdout",
     "text": "\n\n\nDifference\n"
    },
    {
     "output_type": "display_data",
     "data": {
      "text/plain": "         400k      800k     1600k\n200k -0.00004 -0.000133 -0.000458\n400k  0.00000 -0.000099 -0.000420\n800k  0.00000  0.000000 -0.000319",
      "text/html": "<div>\n<style scoped>\n    .dataframe tbody tr th:only-of-type {\n        vertical-align: middle;\n    }\n\n    .dataframe tbody tr th {\n        vertical-align: top;\n    }\n\n    .dataframe thead th {\n        text-align: right;\n    }\n</style>\n<table border=\"1\" class=\"dataframe\">\n  <thead>\n    <tr style=\"text-align: right;\">\n      <th></th>\n      <th>400k</th>\n      <th>800k</th>\n      <th>1600k</th>\n    </tr>\n  </thead>\n  <tbody>\n    <tr>\n      <th>200k</th>\n      <td>-0.00004</td>\n      <td>-0.000133</td>\n      <td>-0.000458</td>\n    </tr>\n    <tr>\n      <th>400k</th>\n      <td>0.00000</td>\n      <td>-0.000099</td>\n      <td>-0.000420</td>\n    </tr>\n    <tr>\n      <th>800k</th>\n      <td>0.00000</td>\n      <td>0.000000</td>\n      <td>-0.000319</td>\n    </tr>\n  </tbody>\n</table>\n</div>"
     },
     "metadata": {}
    }
   ],
   "source": [
    "def analyze_slippage():\n",
    "    # Run process for both trade directions\n",
    "    dfs = {}\n",
    "    for x in [0, 1]:\n",
    "        merged_results = []\n",
    "        for amount in [200000, 400000, 800000]:\n",
    "            result = []\n",
    "            for amount2 in [400000, 800000, 1600000]:\n",
    "                result.append(slippage[(slippage['amount'] == amount) & (slippage['dai_to_usdc'] == x)][str(amount2) + '_slippage'].min())\n",
    "            merged_results.append(result)\n",
    "\n",
    "        merged_results = pd.DataFrame(merged_results, columns = ['400k','800k','1600k'], index = ['200k','400k','800k'])\n",
    "        if x == 0:\n",
    "            dfs['USDC to DAI'] = merged_results\n",
    "        else:\n",
    "            dfs['DAI to USDC'] = merged_results\n",
    "    return dfs\n",
    "\n",
    "def display_analysis(dict, descriptive_string):\n",
    "    print('DAI to USDC ' + descriptive_string)\n",
    "    display(dict['DAI to USDC'])\n",
    "    print('\\n\\n')\n",
    "    print('USDC to DAI ' + descriptive_string)\n",
    "    display(dict['USDC to DAI'])\n",
    "    print('\\n\\n')\n",
    "    print('Difference')\n",
    "    display(dict['DAI to USDC'] - dict['USDC to DAI'])\n",
    "analysis = analyze_slippage()\n",
    "display_analysis(analysis, 'Minimum Slippage')"
   ]
  },
  {
   "cell_type": "code",
   "execution_count": 70,
   "metadata": {
    "tags": []
   },
   "outputs": [
    {
     "output_type": "stream",
     "name": "stdout",
     "text": "DAI to USDC Min/Max Slippage\n"
    },
    {
     "output_type": "display_data",
     "data": {
      "text/plain": "                   400k               800k               1600k\n200k  (0.0002, 0.00035)  (0.0006, 0.00082)  (0.00135, 0.00162)\n400k         (0.0, 0.0)   (0.0004, 0.0005)  (0.00116, 0.00134)\n800k         (0.0, 0.0)         (0.0, 0.0)  (0.00075, 0.00084)",
      "text/html": "<div>\n<style scoped>\n    .dataframe tbody tr th:only-of-type {\n        vertical-align: middle;\n    }\n\n    .dataframe tbody tr th {\n        vertical-align: top;\n    }\n\n    .dataframe thead th {\n        text-align: right;\n    }\n</style>\n<table border=\"1\" class=\"dataframe\">\n  <thead>\n    <tr style=\"text-align: right;\">\n      <th></th>\n      <th>400k</th>\n      <th>800k</th>\n      <th>1600k</th>\n    </tr>\n  </thead>\n  <tbody>\n    <tr>\n      <th>200k</th>\n      <td>(0.0002, 0.00035)</td>\n      <td>(0.0006, 0.00082)</td>\n      <td>(0.00135, 0.00162)</td>\n    </tr>\n    <tr>\n      <th>400k</th>\n      <td>(0.0, 0.0)</td>\n      <td>(0.0004, 0.0005)</td>\n      <td>(0.00116, 0.00134)</td>\n    </tr>\n    <tr>\n      <th>800k</th>\n      <td>(0.0, 0.0)</td>\n      <td>(0.0, 0.0)</td>\n      <td>(0.00075, 0.00084)</td>\n    </tr>\n  </tbody>\n</table>\n</div>"
     },
     "metadata": {}
    },
    {
     "output_type": "stream",
     "name": "stdout",
     "text": "\n\n\nUSDC to DAI Min/Max Slippage\n"
    },
    {
     "output_type": "display_data",
     "data": {
      "text/plain": "                    400k                800k               1600k\n200k  (0.00024, 0.00037)  (0.00073, 0.00094)  (0.00181, 0.00207)\n400k          (0.0, 0.0)  (0.00049, 0.00059)  (0.00158, 0.00173)\n800k          (0.0, 0.0)          (0.0, 0.0)  (0.00107, 0.00116)",
      "text/html": "<div>\n<style scoped>\n    .dataframe tbody tr th:only-of-type {\n        vertical-align: middle;\n    }\n\n    .dataframe tbody tr th {\n        vertical-align: top;\n    }\n\n    .dataframe thead th {\n        text-align: right;\n    }\n</style>\n<table border=\"1\" class=\"dataframe\">\n  <thead>\n    <tr style=\"text-align: right;\">\n      <th></th>\n      <th>400k</th>\n      <th>800k</th>\n      <th>1600k</th>\n    </tr>\n  </thead>\n  <tbody>\n    <tr>\n      <th>200k</th>\n      <td>(0.00024, 0.00037)</td>\n      <td>(0.00073, 0.00094)</td>\n      <td>(0.00181, 0.00207)</td>\n    </tr>\n    <tr>\n      <th>400k</th>\n      <td>(0.0, 0.0)</td>\n      <td>(0.00049, 0.00059)</td>\n      <td>(0.00158, 0.00173)</td>\n    </tr>\n    <tr>\n      <th>800k</th>\n      <td>(0.0, 0.0)</td>\n      <td>(0.0, 0.0)</td>\n      <td>(0.00107, 0.00116)</td>\n    </tr>\n  </tbody>\n</table>\n</div>"
     },
     "metadata": {}
    }
   ],
   "source": [
    "# This is specifically for finding min/max\n",
    "def analyze_slippage():\n",
    "    # Run process for both trade directions\n",
    "    dfs = {}\n",
    "    for x in [0, 1]:\n",
    "        merged_results = []\n",
    "        for amount in [200000, 400000, 800000]:\n",
    "            result = []\n",
    "            for amount2 in [400000, 800000, 1600000]:\n",
    "                result.append((slippage[(slippage['amount'] == amount) & (slippage['dai_to_usdc'] == x)][str(amount2) + '_slippage'].min().round(5), \n",
    "                               slippage[(slippage['amount'] == amount) & (slippage['dai_to_usdc'] == x)][str(amount2) + '_slippage'].max().round(5)))\n",
    "            merged_results.append(result)\n",
    "\n",
    "        merged_results = pd.DataFrame(merged_results, columns = ['400k','800k','1600k'], index = ['200k','400k','800k'])\n",
    "        if x == 0:\n",
    "            dfs['USDC to DAI'] = merged_results\n",
    "        else:\n",
    "            dfs['DAI to USDC'] = merged_results\n",
    "    return dfs\n",
    "\n",
    "def display_analysis(dict, descriptive_string):\n",
    "    print('DAI to USDC ' + descriptive_string)\n",
    "    display(dict['DAI to USDC'])\n",
    "    print('\\n\\n')\n",
    "    print('USDC to DAI ' + descriptive_string)\n",
    "    display(dict['USDC to DAI'])\n",
    "\n",
    "analysis = analyze_slippage()\n",
    "display_analysis(analysis, 'Min/Max Slippage')"
   ]
  },
  {
   "cell_type": "code",
   "execution_count": 48,
   "metadata": {},
   "outputs": [
    {
     "output_type": "execute_result",
     "data": {
      "text/plain": "          0         1         2\n0  0.000276  0.000721  0.001515\n1  0.000000  0.000445  0.001239\n2  0.000000  0.000000  0.000794",
      "text/html": "<div>\n<style scoped>\n    .dataframe tbody tr th:only-of-type {\n        vertical-align: middle;\n    }\n\n    .dataframe tbody tr th {\n        vertical-align: top;\n    }\n\n    .dataframe thead th {\n        text-align: right;\n    }\n</style>\n<table border=\"1\" class=\"dataframe\">\n  <thead>\n    <tr style=\"text-align: right;\">\n      <th></th>\n      <th>0</th>\n      <th>1</th>\n      <th>2</th>\n    </tr>\n  </thead>\n  <tbody>\n    <tr>\n      <th>0</th>\n      <td>0.000276</td>\n      <td>0.000721</td>\n      <td>0.001515</td>\n    </tr>\n    <tr>\n      <th>1</th>\n      <td>0.000000</td>\n      <td>0.000445</td>\n      <td>0.001239</td>\n    </tr>\n    <tr>\n      <th>2</th>\n      <td>0.000000</td>\n      <td>0.000000</td>\n      <td>0.000794</td>\n    </tr>\n  </tbody>\n</table>\n</div>"
     },
     "metadata": {},
     "execution_count": 48
    }
   ],
   "source": [
    "\n"
   ]
  }
 ]
}